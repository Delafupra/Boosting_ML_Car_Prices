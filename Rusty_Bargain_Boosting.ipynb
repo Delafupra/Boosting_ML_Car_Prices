{
 "cells": [
  {
   "cell_type": "markdown",
   "metadata": {},
   "source": []
  },
  {
   "cell_type": "markdown",
   "metadata": {},
   "source": [
    "El servicio de venta de autos usados Rusty Bargain está desarrollando una aplicación para atraer nuevos clientes. Gracias a esa app, puedes averiguar rápidamente el valor de mercado de tu coche. Tienes acceso al historial: especificaciones técnicas, versiones de equipamiento y precios. Tienes que crear un modelo que determine el valor de mercado.\n",
    "A Rusty Bargain le interesa:\n",
    "- la calidad de la predicción;\n",
    "- la velocidad de la predicción;\n",
    "- el tiempo requerido para el entrenamiento"
   ]
  },
  {
   "cell_type": "markdown",
   "metadata": {},
   "source": [
    "## Preparación de datos"
   ]
  },
  {
   "cell_type": "code",
   "execution_count": 34,
   "metadata": {},
   "outputs": [],
   "source": [
    "import numpy as np\n",
    "import pandas as pd\n",
    "\n",
    "from catboost import CatBoostRegressor\n",
    "import lightgbm as lgb\n",
    "\n",
    "from sklearn.linear_model import LinearRegression\n",
    "from sklearn.metrics import mean_squared_error\n",
    "from sklearn.model_selection import train_test_split\n",
    "from sklearn.preprocessing import OrdinalEncoder\n",
    "\n",
    "\n",
    "from xgboost import XGBRegressor\n",
    "\n"
   ]
  },
  {
   "cell_type": "code",
   "execution_count": 3,
   "metadata": {},
   "outputs": [],
   "source": [
    "# Cargar el archivo CSV proporcionado\n",
    "file_path = '/datasets/car_data.csv'\n",
    "car_data = pd.read_csv(file_path)"
   ]
  },
  {
   "cell_type": "code",
   "execution_count": 11,
   "metadata": {},
   "outputs": [
    {
     "name": "stdout",
     "output_type": "stream",
     "text": [
      "<class 'pandas.core.frame.DataFrame'>\n",
      "RangeIndex: 354369 entries, 0 to 354368\n",
      "Data columns (total 16 columns):\n",
      " #   Column             Non-Null Count   Dtype \n",
      "---  ------             --------------   ----- \n",
      " 0   DateCrawled        354369 non-null  object\n",
      " 1   Price              354369 non-null  int64 \n",
      " 2   VehicleType        316879 non-null  object\n",
      " 3   RegistrationYear   354369 non-null  int64 \n",
      " 4   Gearbox            334536 non-null  object\n",
      " 5   Power              354369 non-null  int64 \n",
      " 6   Model              334664 non-null  object\n",
      " 7   Mileage            354369 non-null  int64 \n",
      " 8   RegistrationMonth  354369 non-null  int64 \n",
      " 9   FuelType           321474 non-null  object\n",
      " 10  Brand              354369 non-null  object\n",
      " 11  NotRepaired        283215 non-null  object\n",
      " 12  DateCreated        354369 non-null  object\n",
      " 13  NumberOfPictures   354369 non-null  int64 \n",
      " 14  PostalCode         354369 non-null  int64 \n",
      " 15  LastSeen           354369 non-null  object\n",
      "dtypes: int64(7), object(9)\n",
      "memory usage: 43.3+ MB\n"
     ]
    },
    {
     "data": {
      "text/plain": [
       "(None,\n",
       "         DateCrawled  Price VehicleType  RegistrationYear Gearbox  Power  \\\n",
       " 0  24/03/2016 11:52    480         NaN              1993  manual      0   \n",
       " 1  24/03/2016 10:58  18300       coupe              2011  manual    190   \n",
       " 2  14/03/2016 12:52   9800         suv              2004    auto    163   \n",
       " 3  17/03/2016 16:54   1500       small              2001  manual     75   \n",
       " 4  31/03/2016 17:25   3600       small              2008  manual     69   \n",
       " \n",
       "    Model  Mileage  RegistrationMonth  FuelType       Brand NotRepaired  \\\n",
       " 0   golf   150000                  0    petrol  volkswagen         NaN   \n",
       " 1    NaN   125000                  5  gasoline        audi         yes   \n",
       " 2  grand   125000                  8  gasoline        jeep         NaN   \n",
       " 3   golf   150000                  6    petrol  volkswagen          no   \n",
       " 4  fabia    90000                  7  gasoline       skoda          no   \n",
       " \n",
       "         DateCreated  NumberOfPictures  PostalCode          LastSeen  \n",
       " 0  24/03/2016 00:00                 0       70435  07/04/2016 03:16  \n",
       " 1  24/03/2016 00:00                 0       66954  07/04/2016 01:46  \n",
       " 2  14/03/2016 00:00                 0       90480  05/04/2016 12:47  \n",
       " 3  17/03/2016 00:00                 0       91074  17/03/2016 17:40  \n",
       " 4  31/03/2016 00:00                 0       60437  06/04/2016 10:17  )"
      ]
     },
     "execution_count": 11,
     "metadata": {},
     "output_type": "execute_result"
    }
   ],
   "source": [
    "# Visualizar las primeras filas del dataset y la información general\n",
    "# Visualizar las primeras filas del dataset y la información general\n",
    "car_data_info = car_data.info()\n",
    "car_data_head = car_data.head()\n",
    "\n",
    "car_data_info, car_data_head"
   ]
  },
  {
   "cell_type": "markdown",
   "metadata": {},
   "source": [
    "<div class=\"alert alert-block alert-success\">\n",
    "<b>Comentario del revisor</b> <a class=\"tocSkip\"></a>\n",
    "Excelente trabajo en la preparación de los datos. Has identificado y eliminado columnas irrelevantes y manejado los valores faltantes de manera adecuada. Esto es crucial para garantizar la calidad del modelo.\n",
    "</div>\n"
   ]
  },
  {
   "cell_type": "code",
   "execution_count": 12,
   "metadata": {},
   "outputs": [],
   "source": [
    "# 1. Eliminar columnas irrelevantes para la predicción, como las fechas y el código postal\n",
    "car_data_cleaned = car_data.drop(columns=['DateCrawled', 'DateCreated', 'LastSeen', 'PostalCode', 'NumberOfPictures'])"
   ]
  },
  {
   "cell_type": "code",
   "execution_count": 13,
   "metadata": {},
   "outputs": [],
   "source": [
    "# 2. Remover filas donde el precio sea cero o extremadamente bajo (por ejemplo, menos de 100), ya que estos son probablemente errores\n",
    "car_data_cleaned = car_data_cleaned[car_data_cleaned['Price'] >= 100]\n"
   ]
  },
  {
   "cell_type": "code",
   "execution_count": 14,
   "metadata": {},
   "outputs": [],
   "source": [
    "# 3. Eliminar registros donde la potencia del coche sea cero, lo cual es irreal para la predicción de precio\n",
    "car_data_cleaned = car_data_cleaned[car_data_cleaned['Power'] > 0]"
   ]
  },
  {
   "cell_type": "code",
   "execution_count": 15,
   "metadata": {},
   "outputs": [],
   "source": [
    "# 4. Manejar valores faltantes\n",
    "# Rellenar valores faltantes de las columnas categóricas con 'unknown'\n",
    "categorical_columns = ['VehicleType', 'Gearbox', 'Model', 'FuelType', 'NotRepaired']\n",
    "car_data_cleaned[categorical_columns] = car_data_cleaned[categorical_columns].fillna('unknown')\n"
   ]
  },
  {
   "cell_type": "markdown",
   "metadata": {},
   "source": [
    "<div class=\"alert alert-block alert-warning\">\n",
    "<b>Comentario del revisor</b> <a class=\"tocSkip\"></a>\n",
    "Aunque eliminaste las columnas 'DateCrawled', 'DateCreated' y 'LastSeen', considera que podrían contener información útil, como el tiempo que el anuncio estuvo activo, lo cual podría influir en el precio. Podrías explorar si esta información mejora el modelo.\n",
    "</div>\n"
   ]
  },
  {
   "cell_type": "markdown",
   "metadata": {},
   "source": [
    "<div class=\"alert alert-block alert-warning\">\n",
    "<b>Comentario del revisor</b> <a class=\"tocSkip\"></a>\n",
    "Al eliminar registros con 'Price' menor a 100 y 'Power' igual a cero, estás manejando algunos valores atípicos. Sin embargo, podría ser útil realizar un análisis más profundo de los outliers en variables como 'RegistrationYear' y 'Power' para identificar y manejar otros valores atípicos que puedan afectar el modelo.\n",
    "</div>\n"
   ]
  },
  {
   "cell_type": "code",
   "execution_count": 17,
   "metadata": {},
   "outputs": [
    {
     "name": "stdout",
     "output_type": "stream",
     "text": [
      "<class 'pandas.core.frame.DataFrame'>\n",
      "Int64Index: 305993 entries, 1 to 354368\n",
      "Data columns (total 11 columns):\n",
      " #   Column             Non-Null Count   Dtype \n",
      "---  ------             --------------   ----- \n",
      " 0   Price              305993 non-null  int64 \n",
      " 1   VehicleType        305993 non-null  object\n",
      " 2   RegistrationYear   305993 non-null  int64 \n",
      " 3   Gearbox            305993 non-null  object\n",
      " 4   Power              305993 non-null  int64 \n",
      " 5   Model              305993 non-null  object\n",
      " 6   Mileage            305993 non-null  int64 \n",
      " 7   RegistrationMonth  305993 non-null  int64 \n",
      " 8   FuelType           305993 non-null  object\n",
      " 9   Brand              305993 non-null  object\n",
      " 10  NotRepaired        305993 non-null  object\n",
      "dtypes: int64(5), object(6)\n",
      "memory usage: 28.0+ MB\n"
     ]
    }
   ],
   "source": [
    "# Revisar nuevamente las primeras filas y la descripción general del dataset limpio\n",
    "car_data_cleaned_info = car_data_cleaned.info()\n"
   ]
  },
  {
   "cell_type": "code",
   "execution_count": 18,
   "metadata": {},
   "outputs": [
    {
     "data": {
      "text/html": [
       "<div>\n",
       "<style scoped>\n",
       "    .dataframe tbody tr th:only-of-type {\n",
       "        vertical-align: middle;\n",
       "    }\n",
       "\n",
       "    .dataframe tbody tr th {\n",
       "        vertical-align: top;\n",
       "    }\n",
       "\n",
       "    .dataframe thead th {\n",
       "        text-align: right;\n",
       "    }\n",
       "</style>\n",
       "<table border=\"1\" class=\"dataframe\">\n",
       "  <thead>\n",
       "    <tr style=\"text-align: right;\">\n",
       "      <th></th>\n",
       "      <th>Price</th>\n",
       "      <th>VehicleType</th>\n",
       "      <th>RegistrationYear</th>\n",
       "      <th>Gearbox</th>\n",
       "      <th>Power</th>\n",
       "      <th>Model</th>\n",
       "      <th>Mileage</th>\n",
       "      <th>RegistrationMonth</th>\n",
       "      <th>FuelType</th>\n",
       "      <th>Brand</th>\n",
       "      <th>NotRepaired</th>\n",
       "    </tr>\n",
       "  </thead>\n",
       "  <tbody>\n",
       "    <tr>\n",
       "      <th>1</th>\n",
       "      <td>18300</td>\n",
       "      <td>coupe</td>\n",
       "      <td>2011</td>\n",
       "      <td>manual</td>\n",
       "      <td>190</td>\n",
       "      <td>unknown</td>\n",
       "      <td>125000</td>\n",
       "      <td>5</td>\n",
       "      <td>gasoline</td>\n",
       "      <td>audi</td>\n",
       "      <td>yes</td>\n",
       "    </tr>\n",
       "    <tr>\n",
       "      <th>2</th>\n",
       "      <td>9800</td>\n",
       "      <td>suv</td>\n",
       "      <td>2004</td>\n",
       "      <td>auto</td>\n",
       "      <td>163</td>\n",
       "      <td>grand</td>\n",
       "      <td>125000</td>\n",
       "      <td>8</td>\n",
       "      <td>gasoline</td>\n",
       "      <td>jeep</td>\n",
       "      <td>unknown</td>\n",
       "    </tr>\n",
       "    <tr>\n",
       "      <th>3</th>\n",
       "      <td>1500</td>\n",
       "      <td>small</td>\n",
       "      <td>2001</td>\n",
       "      <td>manual</td>\n",
       "      <td>75</td>\n",
       "      <td>golf</td>\n",
       "      <td>150000</td>\n",
       "      <td>6</td>\n",
       "      <td>petrol</td>\n",
       "      <td>volkswagen</td>\n",
       "      <td>no</td>\n",
       "    </tr>\n",
       "    <tr>\n",
       "      <th>4</th>\n",
       "      <td>3600</td>\n",
       "      <td>small</td>\n",
       "      <td>2008</td>\n",
       "      <td>manual</td>\n",
       "      <td>69</td>\n",
       "      <td>fabia</td>\n",
       "      <td>90000</td>\n",
       "      <td>7</td>\n",
       "      <td>gasoline</td>\n",
       "      <td>skoda</td>\n",
       "      <td>no</td>\n",
       "    </tr>\n",
       "    <tr>\n",
       "      <th>5</th>\n",
       "      <td>650</td>\n",
       "      <td>sedan</td>\n",
       "      <td>1995</td>\n",
       "      <td>manual</td>\n",
       "      <td>102</td>\n",
       "      <td>3er</td>\n",
       "      <td>150000</td>\n",
       "      <td>10</td>\n",
       "      <td>petrol</td>\n",
       "      <td>bmw</td>\n",
       "      <td>yes</td>\n",
       "    </tr>\n",
       "    <tr>\n",
       "      <th>6</th>\n",
       "      <td>2200</td>\n",
       "      <td>convertible</td>\n",
       "      <td>2004</td>\n",
       "      <td>manual</td>\n",
       "      <td>109</td>\n",
       "      <td>2_reihe</td>\n",
       "      <td>150000</td>\n",
       "      <td>8</td>\n",
       "      <td>petrol</td>\n",
       "      <td>peugeot</td>\n",
       "      <td>no</td>\n",
       "    </tr>\n",
       "    <tr>\n",
       "      <th>8</th>\n",
       "      <td>14500</td>\n",
       "      <td>bus</td>\n",
       "      <td>2014</td>\n",
       "      <td>manual</td>\n",
       "      <td>125</td>\n",
       "      <td>c_max</td>\n",
       "      <td>30000</td>\n",
       "      <td>8</td>\n",
       "      <td>petrol</td>\n",
       "      <td>ford</td>\n",
       "      <td>unknown</td>\n",
       "    </tr>\n",
       "    <tr>\n",
       "      <th>9</th>\n",
       "      <td>999</td>\n",
       "      <td>small</td>\n",
       "      <td>1998</td>\n",
       "      <td>manual</td>\n",
       "      <td>101</td>\n",
       "      <td>golf</td>\n",
       "      <td>150000</td>\n",
       "      <td>0</td>\n",
       "      <td>unknown</td>\n",
       "      <td>volkswagen</td>\n",
       "      <td>unknown</td>\n",
       "    </tr>\n",
       "    <tr>\n",
       "      <th>10</th>\n",
       "      <td>2000</td>\n",
       "      <td>sedan</td>\n",
       "      <td>2004</td>\n",
       "      <td>manual</td>\n",
       "      <td>105</td>\n",
       "      <td>3_reihe</td>\n",
       "      <td>150000</td>\n",
       "      <td>12</td>\n",
       "      <td>petrol</td>\n",
       "      <td>mazda</td>\n",
       "      <td>no</td>\n",
       "    </tr>\n",
       "    <tr>\n",
       "      <th>11</th>\n",
       "      <td>2799</td>\n",
       "      <td>wagon</td>\n",
       "      <td>2005</td>\n",
       "      <td>manual</td>\n",
       "      <td>140</td>\n",
       "      <td>passat</td>\n",
       "      <td>150000</td>\n",
       "      <td>12</td>\n",
       "      <td>gasoline</td>\n",
       "      <td>volkswagen</td>\n",
       "      <td>yes</td>\n",
       "    </tr>\n",
       "  </tbody>\n",
       "</table>\n",
       "</div>"
      ],
      "text/plain": [
       "    Price  VehicleType  RegistrationYear Gearbox  Power    Model  Mileage  \\\n",
       "1   18300        coupe              2011  manual    190  unknown   125000   \n",
       "2    9800          suv              2004    auto    163    grand   125000   \n",
       "3    1500        small              2001  manual     75     golf   150000   \n",
       "4    3600        small              2008  manual     69    fabia    90000   \n",
       "5     650        sedan              1995  manual    102      3er   150000   \n",
       "6    2200  convertible              2004  manual    109  2_reihe   150000   \n",
       "8   14500          bus              2014  manual    125    c_max    30000   \n",
       "9     999        small              1998  manual    101     golf   150000   \n",
       "10   2000        sedan              2004  manual    105  3_reihe   150000   \n",
       "11   2799        wagon              2005  manual    140   passat   150000   \n",
       "\n",
       "    RegistrationMonth  FuelType       Brand NotRepaired  \n",
       "1                   5  gasoline        audi         yes  \n",
       "2                   8  gasoline        jeep     unknown  \n",
       "3                   6    petrol  volkswagen          no  \n",
       "4                   7  gasoline       skoda          no  \n",
       "5                  10    petrol         bmw         yes  \n",
       "6                   8    petrol     peugeot          no  \n",
       "8                   8    petrol        ford     unknown  \n",
       "9                   0   unknown  volkswagen     unknown  \n",
       "10                 12    petrol       mazda          no  \n",
       "11                 12  gasoline  volkswagen         yes  "
      ]
     },
     "execution_count": 18,
     "metadata": {},
     "output_type": "execute_result"
    }
   ],
   "source": [
    "car_data_cleaned.head(10)"
   ]
  },
  {
   "cell_type": "markdown",
   "metadata": {},
   "source": [
    "## Entrenamiento del modelo "
   ]
  },
  {
   "cell_type": "code",
   "execution_count": 20,
   "metadata": {},
   "outputs": [],
   "source": [
    "# Separar características (X) y objetivo (y)\n",
    "X = car_data_cleaned.drop(columns=['Price'])\n",
    "y = car_data_cleaned['Price']\n",
    "\n"
   ]
  },
  {
   "cell_type": "code",
   "execution_count": 21,
   "metadata": {},
   "outputs": [],
   "source": [
    "# Codificar las características categóricas\n",
    "categorical_features = ['VehicleType', 'Gearbox', 'Model', 'FuelType', 'Brand', 'NotRepaired']\n",
    "encoder = OrdinalEncoder()\n",
    "X[categorical_features] = encoder.fit_transform(X[categorical_features])\n",
    "\n"
   ]
  },
  {
   "cell_type": "code",
   "execution_count": 22,
   "metadata": {},
   "outputs": [],
   "source": [
    "# Dividir el conjunto de datos en entrenamiento y prueba (70% entrenamiento, 30% prueba)\n",
    "X_train, X_test, y_train, y_test = train_test_split(X, y, test_size=0.3, random_state=42)\n",
    "\n"
   ]
  },
  {
   "cell_type": "code",
   "execution_count": 23,
   "metadata": {},
   "outputs": [
    {
     "data": {
      "text/plain": [
       "((214195, 10), (91798, 10), (214195,), (91798,))"
      ]
     },
     "execution_count": 23,
     "metadata": {},
     "output_type": "execute_result"
    }
   ],
   "source": [
    "# Mostrar la forma de los conjuntos de entrenamiento y prueba\n",
    "(X_train.shape, X_test.shape, y_train.shape, y_test.shape)"
   ]
  },
  {
   "cell_type": "markdown",
   "metadata": {},
   "source": [
    "<div class=\"alert alert-block alert-success\">\n",
    "<b>Comentario del revisor</b> <a class=\"tocSkip\"></a>\n",
    "Dividiste el conjunto de datos en entrenamiento y prueba de manera adecuada, lo cual es fundamental para evaluar el rendimiento real del modelo en datos no vistos.\n",
    "</div>\n"
   ]
  },
  {
   "cell_type": "markdown",
   "metadata": {},
   "source": [
    "<div class=\"alert alert-block alert-warning\">\n",
    "<b>Comentario del revisor</b> <a class=\"tocSkip\"></a>\n",
    "Has utilizado `OrdinalEncoder` para codificar las variables categóricas. Sin embargo, este método asigna un orden arbitrario a las categorías, lo cual puede no ser apropiado si no existe una relación ordinal entre ellas. Considera usar `OneHotEncoder` para variables categóricas nominales o aprovechar las capacidades de CatBoost y LightGBM para manejar variables categóricas directamente.\n",
    "</div>\n"
   ]
  },
  {
   "cell_type": "markdown",
   "metadata": {},
   "source": [
    "## Análisis del modelo"
   ]
  },
  {
   "cell_type": "code",
   "execution_count": 25,
   "metadata": {},
   "outputs": [
    {
     "data": {
      "text/plain": [
       "3614.146358501632"
      ]
     },
     "execution_count": 25,
     "metadata": {},
     "output_type": "execute_result"
    }
   ],
   "source": [
    "# Entrenar el modelo de regresión lineal\n",
    "linear_model = LinearRegression()\n",
    "linear_model.fit(X_train, y_train)\n",
    "\n",
    "# Predecir en el conjunto de prueba\n",
    "y_pred_linear = linear_model.predict(X_test)\n",
    "\n",
    "# Calcular el RMSE para la regresión lineal\n",
    "rmse_linear = np.sqrt(mean_squared_error(y_test, y_pred_linear))\n",
    "rmse_linear"
   ]
  },
  {
   "cell_type": "markdown",
   "metadata": {},
   "source": [
    "El modelo de regresión lineal sirvió como una prueba de cordura inicial y nos proporcionó un RMSE de 3614.15, lo que es razonable para un modelo lineal en este tipo de problemas.\n",
    "Al probar otros modelos más avanzados como LightGBM, CatBoost, y XGBoost, es probable que el RMSE disminuya, lo que indica una mejora en la calidad de las predicciones. Si alguno de estos modelos tiene un RMSE significativamente peor que la regresión lineal, sería una señal de que algo no está funcionando correctamente.\n"
   ]
  },
  {
   "cell_type": "code",
   "execution_count": 31,
   "metadata": {},
   "outputs": [
    {
     "name": "stderr",
     "output_type": "stream",
     "text": [
      "/opt/conda/envs/python3/lib/python3.9/site-packages/lightgbm/engine.py:239: UserWarning: 'verbose_eval' argument is deprecated and will be removed in a future release of LightGBM. Pass 'log_evaluation()' callback via 'callbacks' argument instead.\n",
      "  _log_warning(\"'verbose_eval' argument is deprecated and will be removed in a future release of LightGBM. \"\n"
     ]
    },
    {
     "name": "stdout",
     "output_type": "stream",
     "text": [
      "[LightGBM] [Warning] Auto-choosing row-wise multi-threading, the overhead of testing was 0.004932 seconds.\n",
      "You can set `force_row_wise=true` to remove the overhead.\n",
      "And if memory is not enough, you can set `force_col_wise=true`.\n",
      "[LightGBM] [Info] Total Bins 678\n",
      "[LightGBM] [Info] Number of data points in the train set: 214195, number of used features: 10\n",
      "[LightGBM] [Info] Start training from score 4833.365107\n",
      "[50]\ttraining's rmse: 1771.43\tvalid_1's rmse: 1801.92\n",
      "[100]\ttraining's rmse: 1677.57\tvalid_1's rmse: 1715.88\n"
     ]
    },
    {
     "data": {
      "text/plain": [
       "1715.8793419801023"
      ]
     },
     "execution_count": 31,
     "metadata": {},
     "output_type": "execute_result"
    }
   ],
   "source": [
    "\n",
    "# Crear el dataset de LightGBM\n",
    "train_data = lgb.Dataset(X_train, label=y_train)\n",
    "test_data = lgb.Dataset(X_test, label=y_test, reference=train_data)\n",
    "\n",
    "# Definir los parámetros del modelo\n",
    "params = {\n",
    "    'objective': 'regression',\n",
    "    'metric': 'rmse',\n",
    "    'boosting_type': 'gbdt',\n",
    "    'learning_rate': 0.1,\n",
    "    'num_leaves': 31,\n",
    "    'max_depth': -1,\n",
    "    'feature_fraction': 0.8,\n",
    "    'random_state': 42\n",
    "}\n",
    "\n",
    "# Entrenar el modelo LightGBM\n",
    "lightgbm_model = lgb.train(params, train_data, valid_sets=[train_data, test_data], verbose_eval=50)\n",
    "\n",
    "# Predecir en el conjunto de prueba\n",
    "y_pred_lgbm = lightgbm_model.predict(X_test)\n",
    "\n",
    "# Calcular el RMSE para el modelo LightGBM\n",
    "rmse_lgbm = np.sqrt(mean_squared_error(y_test, y_pred_lgbm))\n",
    "rmse_lgbm"
   ]
  },
  {
   "cell_type": "code",
   "execution_count": 30,
   "metadata": {},
   "outputs": [
    {
     "name": "stdout",
     "output_type": "stream",
     "text": [
      "Learning rate set to 0.095598\n",
      "0:\tlearn: 4311.2460167\ttotal: 24.5ms\tremaining: 24.4s\n",
      "100:\tlearn: 1821.7389156\ttotal: 2.31s\tremaining: 20.5s\n",
      "200:\tlearn: 1728.7632829\ttotal: 4.56s\tremaining: 18.1s\n",
      "300:\tlearn: 1681.9266387\ttotal: 6.79s\tremaining: 15.8s\n",
      "400:\tlearn: 1647.7603980\ttotal: 9.04s\tremaining: 13.5s\n",
      "500:\tlearn: 1622.7143848\ttotal: 11.3s\tremaining: 11.2s\n",
      "600:\tlearn: 1601.7774865\ttotal: 13.7s\tremaining: 9.07s\n",
      "700:\tlearn: 1583.2673191\ttotal: 16s\tremaining: 6.84s\n",
      "800:\tlearn: 1567.6953532\ttotal: 18.3s\tremaining: 4.54s\n",
      "900:\tlearn: 1555.2717206\ttotal: 20.5s\tremaining: 2.25s\n",
      "999:\tlearn: 1541.9280663\ttotal: 22.8s\tremaining: 0us\n"
     ]
    },
    {
     "data": {
      "text/plain": [
       "1617.7176050557227"
      ]
     },
     "execution_count": 30,
     "metadata": {},
     "output_type": "execute_result"
    }
   ],
   "source": [
    "\n",
    "# Definir el modelo de CatBoost\n",
    "catboost_model = CatBoostRegressor(loss_function='RMSE', random_state=42, verbose=100)\n",
    "\n",
    "# Entrenar el modelo de CatBoost\n",
    "catboost_model.fit(X_train, y_train)\n",
    "\n",
    "# Predecir en el conjunto de prueba\n",
    "y_pred_catboost = catboost_model.predict(X_test)\n",
    "\n",
    "# Calcular el RMSE para el modelo CatBoost\n",
    "rmse_catboost = np.sqrt(mean_squared_error(y_test, y_pred_catboost))\n",
    "rmse_catboost"
   ]
  },
  {
   "cell_type": "code",
   "execution_count": 32,
   "metadata": {},
   "outputs": [
    {
     "data": {
      "text/plain": [
       "1709.2603888157466"
      ]
     },
     "execution_count": 32,
     "metadata": {},
     "output_type": "execute_result"
    }
   ],
   "source": [
    "# Definir el modelo XGBoost\n",
    "xgboost_model = XGBRegressor(objective='reg:squarederror', n_estimators=100, random_state=42, learning_rate=0.1)\n",
    "\n",
    "# Entrenar el modelo de XGBoost\n",
    "xgboost_model.fit(X_train, y_train)\n",
    "\n",
    "# Predecir en el conjunto de prueba\n",
    "y_pred_xgb = xgboost_model.predict(X_test)\n",
    "\n",
    "# Calcular el RMSE para el modelo XGBoost\n",
    "rmse_xgb = np.sqrt(mean_squared_error(y_test, y_pred_xgb))\n",
    "rmse_xgb"
   ]
  },
  {
   "cell_type": "code",
   "execution_count": null,
   "metadata": {},
   "outputs": [],
   "source": []
  },
  {
   "cell_type": "markdown",
   "metadata": {},
   "source": [
    "El modelo de regresión lineal es extremadamente rápido tanto para entrenar como para realizar predicciones. Sin embargo, su simplicidad también limita la calidad de las predicciones.\n",
    "Los modelos avanzados de boosting, tienden a ser más lentos tanto en entrenamiento como en predicciones, pero generalmente ofrecen una mayor precisión.\n",
    "\n",
    "Los modelos de boosting como LightGBM, CatBoost, y XGBoost requieren más tiempo para entrenar, especialmente si estamos ajustando los hiperparámetros. Es importante encontrar un equilibrio entre la precisión y el tiempo de entrenamiento."
   ]
  },
  {
   "cell_type": "markdown",
   "metadata": {},
   "source": [
    "<div class=\"alert alert-block alert-success\">\n",
    "<b>Comentario del revisor</b> <a class=\"tocSkip\"></a>\n",
    "Excelente iniciativa al probar diferentes modelos, incluyendo regresión lineal y algoritmos de boosting como LightGBM, CatBoost y XGBoost. Esto te permite comparar su rendimiento y elegir el más adecuado para el problema.\n",
    "</div>\n"
   ]
  },
  {
   "cell_type": "markdown",
   "metadata": {},
   "source": [
    "<div class=\"alert alert-block alert-warning\">\n",
    "<b>Comentario del revisor</b> <a class=\"tocSkip\"></a>\n",
    "Aunque calculaste el RMSE para cada modelo, sería beneficioso realizar una validación cruzada para obtener una estimación más robusta del rendimiento del modelo y evitar posibles sesgos debidos a la división de datos.\n",
    "</div>\n"
   ]
  },
  {
   "cell_type": "markdown",
   "metadata": {},
   "source": [
    "<div class=\"alert alert-block alert-warning\"> \n",
    "<b>Comentario del revisor</b> <a class=\"tocSkip\"></a> \n",
    "\n",
    "Para mejorar tu proyecto y prepararlo para incluirlo en tu portafolio, te recomiendo que agregues una sección donde analices la **velocidad y la calidad de los modelos**. Esto es especialmente importante, ya que en aplicaciones del mundo real, no solo importa la precisión de las predicciones sino también la eficiencia en términos de tiempo de entrenamiento y predicción.\n",
    "\n",
    "Puedes utilizar las **\"magic cells\"** de Jupyter Notebook para medir el tiempo de ejecución de tu código. Estas son herramientas muy útiles para obtener información sobre el rendimiento de tus celdas. Aquí te explico cómo puedes utilizarlas:\n",
    "\n",
    "- **`%time`:** Esta magic line te permite medir el tiempo de ejecución de una sola línea de código.\n",
    "  \n",
    "  ```python\n",
    "  %time model.fit(X_train, y_train)\n",
    "    \n",
    "%%time: Esta magic cell se coloca al inicio de una celda y mide el tiempo total de ejecución de toda la celda.\n",
    "\n",
    "    %%time\n",
    "\n",
    "    # Código para entrenar el modelo\n",
    "    model.fit(X_train, y_train)\n",
    "    \n",
    "    \n",
    "%timeit y %%timeit: Estas magic functions ejecutan el código varias veces para obtener un tiempo promedio y más preciso.\n",
    "\n",
    "\n",
    "    %timeit model.predict(X_test)\n",
    "    \n",
    "Al aplicar estas herramientas, podrías:\n",
    "\n",
    "Medir el tiempo de entrenamiento: Cuánto tiempo tarda cada modelo en ajustarse a los datos de entrenamiento.\n",
    "\n",
    "Medir el tiempo de predicción: Cuánto tiempo toma cada modelo en realizar predicciones sobre el conjunto de prueba.\n",
    "\n",
    "Comparar los resultados: Crear una tabla o resumen donde compares la calidad (por ejemplo, RMSE) y los tiempos de entrenamiento y predicción de cada modelo. Esto te permitirá evaluar cuál modelo es el más adecuado considerando tanto la precisión como la eficiencia.\n",
    "\n",
    "\n",
    "\n",
    "</div> "
   ]
  },
  {
   "cell_type": "markdown",
   "metadata": {},
   "source": [
    "# Lista de control"
   ]
  },
  {
   "cell_type": "markdown",
   "metadata": {},
   "source": [
    "Escribe 'x' para verificar. Luego presiona Shift+Enter"
   ]
  },
  {
   "cell_type": "markdown",
   "metadata": {},
   "source": [
    "- [x]  Jupyter Notebook está abierto\n",
    "- [ ]  El código no tiene errores- [ ]  Las celdas con el código han sido colocadas en orden de ejecución- [ ]  Los datos han sido descargados y preparados- [ ]  Los modelos han sido entrenados\n",
    "- [ ]  Se realizó el análisis de velocidad y calidad de los modelos"
   ]
  },
  {
   "cell_type": "markdown",
   "metadata": {},
   "source": [
    "<div class=\"alert alert-block alert-success\">\n",
    "<b>Comentario del revisor</b> <a class=\"tocSkip\"></a>\n",
    "\n",
    "¡Felicidades! Tu proyecto está **aprobado**. Has demostrado una sólida comprensión del proceso de modelado y análisis de datos. A continuación, destaco los puntos positivos y algunas sugerencias para seguir mejorando:\n",
    "\n",
    "#### Puntos Positivos:\n",
    "\n",
    "- **Preparación de datos exhaustiva:** Has realizado un buen trabajo en la limpieza y preparación de los datos, identificando columnas irrelevantes y manejando valores faltantes y atípicos.\n",
    "\n",
    "- **Exploración de múltiples modelos:** La implementación y comparación de diferentes algoritmos de regresión demuestra tu interés en encontrar la mejor solución para el problema.\n",
    "\n",
    "- **Análisis crítico de resultados:** Has evaluado adecuadamente el equilibrio entre la precisión del modelo y el tiempo de entrenamiento, lo cual es esencial en proyectos del mundo real.\n",
    "\n",
    "#### Sugerencias para Mejorar:\n",
    "\n",
    "- **Codificación de variables categóricas:** Considera utilizar técnicas más adecuadas para variables categóricas, como `OneHotEncoder` o el manejo nativo de categorías en CatBoost y LightGBM, para evitar introducir relaciones ordinales donde no las hay.\n",
    "\n",
    "- **Optimización de hiperparámetros:** Implementa técnicas de optimización como `GridSearchCV` o `RandomizedSearchCV` para ajustar los hiperparámetros de tus modelos y potencialmente mejorar su rendimiento.\n",
    "\n",
    "- **Validación cruzada:** Utiliza validación cruzada para obtener estimaciones más fiables del rendimiento de tus modelos y asegurarte de que generalizan bien a datos nuevos.\n",
    "\n",
    "- **Análisis de outliers adicionales:** Realiza un análisis más profundo de los valores atípicos en variables como `RegistrationYear` y `Power` para limpiar aún más los datos y mejorar la calidad del modelo.\n",
    "\n",
    "¡Continúa con el excelente trabajo! Tu dedicación y esfuerzo son evidentes, y estás en el camino correcto para convertirte en un gran científico de datos. 🚀\n",
    "\n",
    "</div>\n"
   ]
  }
 ],
 "metadata": {
  "ExecuteTimeLog": [
   {
    "duration": 311,
    "start_time": "2024-09-30T18:00:27.646Z"
   },
   {
    "duration": 544,
    "start_time": "2024-09-30T18:00:36.882Z"
   },
   {
    "duration": 495,
    "start_time": "2024-09-30T18:00:57.689Z"
   },
   {
    "duration": 94,
    "start_time": "2024-09-30T18:01:19.244Z"
   },
   {
    "duration": 2,
    "start_time": "2024-09-30T18:01:37.222Z"
   },
   {
    "duration": 2,
    "start_time": "2024-09-30T18:01:40.521Z"
   },
   {
    "duration": 3,
    "start_time": "2024-09-30T18:01:42.086Z"
   },
   {
    "duration": 3,
    "start_time": "2024-09-30T18:01:44.365Z"
   },
   {
    "duration": 15,
    "start_time": "2024-09-30T18:01:49.529Z"
   },
   {
    "duration": 91,
    "start_time": "2024-09-30T18:01:57.630Z"
   },
   {
    "duration": 97,
    "start_time": "2024-09-30T18:02:23.586Z"
   },
   {
    "duration": 17,
    "start_time": "2024-09-30T18:05:01.811Z"
   },
   {
    "duration": 38,
    "start_time": "2024-09-30T18:05:42.973Z"
   },
   {
    "duration": 26,
    "start_time": "2024-09-30T18:07:12.390Z"
   },
   {
    "duration": 73,
    "start_time": "2024-09-30T18:07:39.026Z"
   },
   {
    "duration": 58,
    "start_time": "2024-09-30T18:07:46.314Z"
   },
   {
    "duration": 54,
    "start_time": "2024-09-30T18:08:02.377Z"
   },
   {
    "duration": 11,
    "start_time": "2024-09-30T18:08:20.342Z"
   },
   {
    "duration": 459,
    "start_time": "2024-09-30T18:10:37.792Z"
   },
   {
    "duration": 9,
    "start_time": "2024-09-30T18:10:42.798Z"
   },
   {
    "duration": 581,
    "start_time": "2024-09-30T18:10:44.393Z"
   },
   {
    "duration": 46,
    "start_time": "2024-09-30T18:10:47.705Z"
   },
   {
    "duration": 4,
    "start_time": "2024-09-30T18:10:49.122Z"
   },
   {
    "duration": 17,
    "start_time": "2024-09-30T18:11:53.052Z"
   },
   {
    "duration": 91,
    "start_time": "2024-09-30T18:12:32.381Z"
   },
   {
    "duration": 3689,
    "start_time": "2024-09-30T18:14:33.931Z"
   },
   {
    "duration": 23153,
    "start_time": "2024-09-30T18:18:00.302Z"
   },
   {
    "duration": 22043,
    "start_time": "2024-09-30T18:18:39.083Z"
   },
   {
    "duration": 3,
    "start_time": "2024-09-30T18:21:04.072Z"
   },
   {
    "duration": 23125,
    "start_time": "2024-09-30T18:22:15.378Z"
   },
   {
    "duration": 3574,
    "start_time": "2024-09-30T18:22:58.041Z"
   },
   {
    "duration": 23430,
    "start_time": "2024-09-30T18:23:06.099Z"
   },
   {
    "duration": 264258,
    "start_time": "2024-09-30T18:27:49.386Z"
   },
   {
    "duration": 4,
    "start_time": "2024-09-30T18:32:13.646Z"
   }
  ],
  "kernelspec": {
   "display_name": "Python 3 (ipykernel)",
   "language": "python",
   "name": "python3"
  },
  "language_info": {
   "codemirror_mode": {
    "name": "ipython",
    "version": 3
   },
   "file_extension": ".py",
   "mimetype": "text/x-python",
   "name": "python",
   "nbconvert_exporter": "python",
   "pygments_lexer": "ipython3",
   "version": "3.9.19"
  },
  "toc": {
   "base_numbering": 1,
   "nav_menu": {},
   "number_sections": true,
   "sideBar": true,
   "skip_h1_title": true,
   "title_cell": "Table of Contents",
   "title_sidebar": "Contents",
   "toc_cell": false,
   "toc_position": {},
   "toc_section_display": true,
   "toc_window_display": false
  }
 },
 "nbformat": 4,
 "nbformat_minor": 2
}
